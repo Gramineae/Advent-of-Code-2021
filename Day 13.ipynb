{
 "cells": [
  {
   "cell_type": "code",
   "execution_count": 2,
   "id": "98fa5a95",
   "metadata": {},
   "outputs": [],
   "source": [
    "import re\n",
    "import matplotlib.pyplot as plt\n",
    "%matplotlib inline"
   ]
  },
  {
   "cell_type": "code",
   "execution_count": 3,
   "id": "fca0f58f",
   "metadata": {},
   "outputs": [],
   "source": [
    "file = open('Day 13.txt').read().rstrip()\n",
    "first, second = file.split('\\n\\n')\n",
    "D = [] # coordinates of all original marked dots\n",
    "for row in first.split('\\n'):\n",
    "    x, y = row.split(',')\n",
    "    D.append((int(x), int(y)))\n",
    "    \n",
    "L = re.findall(r'[xy]=\\d+', second)\n",
    "INS = [] # fold instructions\n",
    "for l in L:\n",
    "    m, n = l.split('=')\n",
    "    INS.append([m, int(n)])"
   ]
  },
  {
   "cell_type": "code",
   "execution_count": 4,
   "id": "4a777a7a",
   "metadata": {},
   "outputs": [],
   "source": [
    "for ins in INS:\n",
    "    D2 = set()\n",
    "    if ins[0] == 'x': # 对称轴是一条竖线，竖线左侧的点保持不变\n",
    "        for d in D:\n",
    "            if d[0] < ins[1]: # d[0]表示x的坐标，d[1]表示y的坐标\n",
    "                D2.add(d)\n",
    "            elif d[0] > ins[1]:\n",
    "                new_x = 2*ins[1] - d[0]\n",
    "                D2.add((new_x, d[1]))\n",
    "    elif ins[0] == 'y':\n",
    "        for d in D:\n",
    "            if d[1] < ins[1]: # d[0]表示x的坐标，d[1]表示y的坐标\n",
    "                D2.add(d)\n",
    "            elif d[1] > ins[1]:\n",
    "                new_y = 2*ins[1] - d[1]\n",
    "                D2.add((d[0], new_y))\n",
    "    D = list(D2)"
   ]
  },
  {
   "cell_type": "code",
   "execution_count": 5,
   "id": "a3a8fecf",
   "metadata": {},
   "outputs": [],
   "source": [
    "X = []\n",
    "Y = []\n",
    "for d in list(D2):\n",
    "    X.append(d[0])\n",
    "    Y.append(-d[1])"
   ]
  },
  {
   "cell_type": "code",
   "execution_count": 6,
   "id": "90852615",
   "metadata": {},
   "outputs": [
    {
     "data": {
      "text/plain": [
       "[<matplotlib.lines.Line2D at 0x1b24ec1be20>]"
      ]
     },
     "execution_count": 6,
     "metadata": {},
     "output_type": "execute_result"
    },
    {
     "data": {
      "image/png": "[encoded data removed]",
      "text/plain": [
       "<Figure size 360x43.2 with 1 Axes>"
      ]
     },
     "metadata": {
      "needs_background": "light"
     },
     "output_type": "display_data"
    }
   ],
   "source": [
    "plt.figure(figsize=(5, 0.6))\n",
    "plt.plot(X, Y, '.')"
   ]
  }
 ],
 "metadata": {
  "kernelspec": {
   "display_name": "Python 3 (ipykernel)",
   "language": "python",
   "name": "python3"
  },
  "language_info": {
   "codemirror_mode": {
    "name": "ipython",
    "version": 3
   },
   "file_extension": ".py",
   "mimetype": "text/x-python",
   "name": "python",
   "nbconvert_exporter": "python",
   "pygments_lexer": "ipython3",
   "version": "3.8.12"
  }
 },
 "nbformat": 4,
 "nbformat_minor": 5
}
